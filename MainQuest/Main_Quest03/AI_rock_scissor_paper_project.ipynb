{
  "nbformat": 4,
  "nbformat_minor": 0,
  "metadata": {
    "colab": {
      "provenance": [],
      "mount_file_id": "1hbFRXXXdd_3oN3_QbVcttVLYm43Svxhv",
      "authorship_tag": "ABX9TyMie5DMKxdxyZxvV8G4spyb",
      "include_colab_link": true
    },
    "kernelspec": {
      "name": "python3",
      "display_name": "Python 3"
    },
    "language_info": {
      "name": "python"
    }
  },
  "cells": [
    {
      "cell_type": "markdown",
      "metadata": {
        "id": "view-in-github",
        "colab_type": "text"
      },
      "source": [
        "<a href=\"https://colab.research.google.com/github/dlclxkzk87/AIFFEL_Quest/blob/main/MainQuest/Main_Quest03/AI_rock_scissor_paper_project.ipynb\" target=\"_parent\"><img src=\"https://colab.research.google.com/assets/colab-badge.svg\" alt=\"Open In Colab\"/></a>"
      ]
    },
    {
      "cell_type": "code",
      "execution_count": 1,
      "metadata": {
        "colab": {
          "base_uri": "https://localhost:8080/"
        },
        "id": "Ob7pb8-0AdtL",
        "outputId": "68b57220-02ca-4896-e7f6-6cf591dd3415"
      },
      "outputs": [
        {
          "output_type": "stream",
          "name": "stdout",
          "text": [
            "2.14.0\n",
            "1.23.5\n"
          ]
        }
      ],
      "source": [
        "import tensorflow as tf\n",
        "import numpy as np\n",
        "\n",
        "print(tf.__version__)\n",
        "print(np.__version__)"
      ]
    },
    {
      "cell_type": "code",
      "source": [
        "# 데이터 불러오기 + Resize 하기\n",
        "from PIL import Image\n",
        "import glob\n",
        "import os\n",
        "\n",
        "print(\"PIL 라이브러리 import 완료!\")"
      ],
      "metadata": {
        "id": "sxx-yrT9Db7f",
        "colab": {
          "base_uri": "https://localhost:8080/"
        },
        "outputId": "7748c426-c321-43e7-b300-90fb67b8ac77"
      },
      "execution_count": 2,
      "outputs": [
        {
          "output_type": "stream",
          "name": "stdout",
          "text": [
            "PIL 라이브러리 import 완료!\n"
          ]
        }
      ]
    },
    {
      "cell_type": "code",
      "source": [
        "def resize_images(img_path):\n",
        "\timages=glob.glob(img_path + \"/*.jpg\")\n",
        "\n",
        "\tprint(len(images), \" images to be resized.\")\n",
        "\n",
        "    # 파일마다 모두 28x28 사이즈로 바꾸어 저장합니다.\n",
        "\ttarget_size=(28,28)\n",
        "\tfor img in images:\n",
        "\t\told_img=Image.open(img)\n",
        "\t\tnew_img=old_img.resize(target_size,Image.ANTIALIAS)\n",
        "\t\tnew_img.save(img, \"JPEG\")\n",
        "\n",
        "\tprint(len(images), \" images resized.\")\n",
        "\n",
        "# 가위 이미지가 저장된 디렉토리 아래의 모든 jpg 파일을 읽어들여서\n",
        "image_dir_path = \"/content/drive/MyDrive/on6Core/Quest_python/project_rock_scissor_paper/scissor\"\n",
        "resize_images(image_dir_path)\n",
        "\n",
        "print(\"가위 이미지 resize 완료!\")"
      ],
      "metadata": {
        "id": "y5VKiUPYDlBW",
        "colab": {
          "base_uri": "https://localhost:8080/"
        },
        "outputId": "59e275cf-ee7c-4fc5-af92-06f7873f0bda"
      },
      "execution_count": 3,
      "outputs": [
        {
          "output_type": "stream",
          "name": "stdout",
          "text": [
            "1367  images to be resized.\n"
          ]
        },
        {
          "output_type": "stream",
          "name": "stderr",
          "text": [
            "<ipython-input-3-7dfbe6f4a3d4>:10: DeprecationWarning: ANTIALIAS is deprecated and will be removed in Pillow 10 (2023-07-01). Use LANCZOS or Resampling.LANCZOS instead.\n",
            "  new_img=old_img.resize(target_size,Image.ANTIALIAS)\n"
          ]
        },
        {
          "output_type": "stream",
          "name": "stdout",
          "text": [
            "1367  images resized.\n",
            "가위 이미지 resize 완료!\n"
          ]
        }
      ]
    },
    {
      "cell_type": "code",
      "source": [
        "# 바위 이미지가 저장된 디렉토리 아래의 모든 jpg 파일을 읽어들여서\n",
        "# 파일마다 모두 28x28 사이즈로 바꾸어 저장합니다.\n",
        "image_dir_path = \"/content/drive/MyDrive/on6Core/Quest_python/project_rock_scissor_paper/rock\"\n",
        "resize_images(image_dir_path)\n",
        "\n",
        "print(\"바위 이미지 resize 완료!\")"
      ],
      "metadata": {
        "id": "h7L_rztyNgyW",
        "colab": {
          "base_uri": "https://localhost:8080/"
        },
        "outputId": "10c9b7dc-ece3-4b92-f6c3-2c13819e67e9"
      },
      "execution_count": 4,
      "outputs": [
        {
          "output_type": "stream",
          "name": "stdout",
          "text": [
            "1198  images to be resized.\n"
          ]
        },
        {
          "output_type": "stream",
          "name": "stderr",
          "text": [
            "<ipython-input-3-7dfbe6f4a3d4>:10: DeprecationWarning: ANTIALIAS is deprecated and will be removed in Pillow 10 (2023-07-01). Use LANCZOS or Resampling.LANCZOS instead.\n",
            "  new_img=old_img.resize(target_size,Image.ANTIALIAS)\n"
          ]
        },
        {
          "output_type": "stream",
          "name": "stdout",
          "text": [
            "1198  images resized.\n",
            "바위 이미지 resize 완료!\n"
          ]
        }
      ]
    },
    {
      "cell_type": "code",
      "source": [
        "# 보 이미지가 저장된 디렉토리 아래의 모든 jpg 파일을 읽어들여서\n",
        "# 파일마다 모두 28x28 사이즈로 바꾸어 저장합니다.\n",
        "image_dir_path = \"/content/drive/MyDrive/on6Core/Quest_python/project_rock_scissor_paper/paper\"\n",
        "resize_images(image_dir_path)\n",
        "\n",
        "print(\"보 이미지 resize 완료!\")"
      ],
      "metadata": {
        "id": "4XWHD1JANiLH",
        "colab": {
          "base_uri": "https://localhost:8080/"
        },
        "outputId": "39f1dbd2-e759-4ff4-a470-f93ffe697981"
      },
      "execution_count": 5,
      "outputs": [
        {
          "output_type": "stream",
          "name": "stdout",
          "text": [
            "1091  images to be resized.\n"
          ]
        },
        {
          "output_type": "stream",
          "name": "stderr",
          "text": [
            "<ipython-input-3-7dfbe6f4a3d4>:10: DeprecationWarning: ANTIALIAS is deprecated and will be removed in Pillow 10 (2023-07-01). Use LANCZOS or Resampling.LANCZOS instead.\n",
            "  new_img=old_img.resize(target_size,Image.ANTIALIAS)\n"
          ]
        },
        {
          "output_type": "stream",
          "name": "stdout",
          "text": [
            "1091  images resized.\n",
            "보 이미지 resize 완료!\n"
          ]
        }
      ]
    },
    {
      "cell_type": "code",
      "source": [
        "import numpy as np\n",
        "from sklearn.model_selection import train_test_split\n",
        "\n",
        "def load_data(img_path, number_of_data=3656):  # 가위바위보 이미지 개수 총합에 주의하세요.\n",
        "    # 가위 : 0, 바위 : 1, 보 : 2\n",
        "    img_size=28\n",
        "    color=3\n",
        "    #이미지 데이터와 라벨(가위 : 0, 바위 : 1, 보 : 2) 데이터를 담을 행렬(matrix) 영역을 생성합니다.\n",
        "    imgs=np.zeros(number_of_data*img_size*img_size*color,dtype=np.int32).reshape(number_of_data,img_size,img_size,color)\n",
        "    labels=np.zeros(number_of_data,dtype=np.int32)\n",
        "\n",
        "    idx=0\n",
        "    for file in glob.iglob(img_path+'/scissor/*.jpg'):\n",
        "        img = np.array(Image.open(file),dtype=np.int32)\n",
        "        imgs[idx,:,:,:]=img    # 데이터 영역에 이미지 행렬을 복사\n",
        "        labels[idx]=0   # 가위 : 0\n",
        "        idx=idx+1\n",
        "\n",
        "    for file in glob.iglob(img_path+'/rock/*.jpg'):\n",
        "        img = np.array(Image.open(file),dtype=np.int32)\n",
        "        imgs[idx,:,:,:]=img    # 데이터 영역에 이미지 행렬을 복사\n",
        "        labels[idx]=1   # 바위 : 1\n",
        "        idx=idx+1\n",
        "\n",
        "    for file in glob.iglob(img_path+'/paper/*.jpg'):\n",
        "        img = np.array(Image.open(file),dtype=np.int32)\n",
        "        imgs[idx,:,:,:]=img    # 데이터 영역에 이미지 행렬을 복사\n",
        "        labels[idx]=2   # 보 : 2\n",
        "        idx=idx+1\n",
        "\n",
        "    print(\"학습데이터(x_train)의 이미지 개수는\", idx,\"입니다.\")\n",
        "    return imgs, labels\n",
        "\n",
        "image_dir_path = \"/content/drive/MyDrive/on6Core/Quest_python/project_rock_scissor_paper\"\n",
        "x_train, y_train =load_data(image_dir_path)\n",
        "x_train, x_val, y_train, y_val = train_test_split(x_train, y_train, test_size=0.2, random_state=2023)\n",
        "x_train_norm, x_val_norm = x_train/255.0, x_val /255.0   # 입력은 0~1 사이의 값으로 정규화\n",
        "\n",
        "print(\"x_train shape: {}\".format(x_train.shape))\n",
        "print(\"y_train shape: {}\".format(y_train.shape))"
      ],
      "metadata": {
        "id": "RqJ0gSrrNkXR",
        "colab": {
          "base_uri": "https://localhost:8080/"
        },
        "outputId": "b696a59b-b7fa-4a9e-9ea5-04eeae7b0e35"
      },
      "execution_count": 6,
      "outputs": [
        {
          "output_type": "stream",
          "name": "stdout",
          "text": [
            "학습데이터(x_train)의 이미지 개수는 3656 입니다.\n",
            "x_train shape: (2924, 28, 28, 3)\n",
            "y_train shape: (2924,)\n"
          ]
        }
      ]
    },
    {
      "cell_type": "code",
      "source": [
        "import matplotlib.pyplot as plt\n",
        "plt.imshow(x_train[0])\n",
        "print('라벨: ', y_train[0])"
      ],
      "metadata": {
        "id": "VQLQQNwcNmAK",
        "colab": {
          "base_uri": "https://localhost:8080/",
          "height": 448
        },
        "outputId": "daffb4b0-59d5-4649-f57e-c3287d1789e3"
      },
      "execution_count": 7,
      "outputs": [
        {
          "output_type": "stream",
          "name": "stdout",
          "text": [
            "라벨:  0\n"
          ]
        },
        {
          "output_type": "display_data",
          "data": {
            "text/plain": [
              "<Figure size 640x480 with 1 Axes>"
            ],
            "image/png": "[encoded data removed]"
          },
          "metadata": {}
        }
      ]
    },
    {
      "cell_type": "markdown",
      "source": [
        "## 딥러닝 네트워크 설계하기"
      ],
      "metadata": {
        "id": "PKLWCFAsNoxP"
      }
    },
    {
      "cell_type": "code",
      "source": [
        "import tensorflow as tf\n",
        "from tensorflow import keras\n",
        "import numpy as np\n",
        "\n",
        "# model을 직접 만들어 보세요.\n",
        "# Hint! model의 입력/출력부에 특히 유의해 주세요.\n",
        "model = keras.Sequential([\n",
        "    keras.layers.Conv2D(32, (3, 3), activation='relu', input_shape=(28, 28, 3)),\n",
        "    keras.layers.MaxPooling2D(2, 2),\n",
        "    keras.layers.Conv2D(64, (3, 3), activation='relu'),\n",
        "    keras.layers.MaxPooling2D(2, 2),\n",
        "    keras.layers.Flatten(),\n",
        "    keras.layers.Dense(128, activation='relu'),\n",
        "    keras.layers.Dense(3, activation='softmax')\n",
        "])\n",
        "\n",
        "print('Model에 추가된 Layer 개수: ', len(model.layers))\n",
        "\n",
        "model.summary()"
      ],
      "metadata": {
        "id": "pm85QpB2NoS5",
        "colab": {
          "base_uri": "https://localhost:8080/"
        },
        "outputId": "692914ba-a719-40b7-d77f-6b57802b9e3a"
      },
      "execution_count": 8,
      "outputs": [
        {
          "output_type": "stream",
          "name": "stdout",
          "text": [
            "Model에 추가된 Layer 개수:  7\n",
            "Model: \"sequential\"\n",
            "_________________________________________________________________\n",
            " Layer (type)                Output Shape              Param #   \n",
            "=================================================================\n",
            " conv2d (Conv2D)             (None, 26, 26, 32)        896       \n",
            "                                                                 \n",
            " max_pooling2d (MaxPooling2  (None, 13, 13, 32)        0         \n",
            " D)                                                              \n",
            "                                                                 \n",
            " conv2d_1 (Conv2D)           (None, 11, 11, 64)        18496     \n",
            "                                                                 \n",
            " max_pooling2d_1 (MaxPoolin  (None, 5, 5, 64)          0         \n",
            " g2D)                                                            \n",
            "                                                                 \n",
            " flatten (Flatten)           (None, 1600)              0         \n",
            "                                                                 \n",
            " dense (Dense)               (None, 128)               204928    \n",
            "                                                                 \n",
            " dense_1 (Dense)             (None, 3)                 387       \n",
            "                                                                 \n",
            "=================================================================\n",
            "Total params: 224707 (877.76 KB)\n",
            "Trainable params: 224707 (877.76 KB)\n",
            "Non-trainable params: 0 (0.00 Byte)\n",
            "_________________________________________________________________\n"
          ]
        }
      ]
    },
    {
      "cell_type": "markdown",
      "source": [
        "## 딥러닝 네트워크 학습시키기"
      ],
      "metadata": {
        "id": "dDwHNUwfNrWi"
      }
    },
    {
      "cell_type": "code",
      "source": [
        "# model을 학습시키는 코드를 직접 작성해 보세요.\n",
        "# Hint! model.compile()과 model.fit()을 사용해 봅시다.\n",
        "# 입력이미지의 크기에 채널 추가\n",
        "print(f\"Before Reshape - x_train_norm shape: {x_train_norm.shape}\")\n",
        "\n",
        "model.compile(optimizer='Adam',\n",
        "              loss='sparse_categorical_crossentropy',\n",
        "              metrics=['accuracy'])\n",
        "\n",
        "history = model.fit(x_train_norm, y_train, epochs=10, validation_data=(x_val_norm, y_val))"
      ],
      "metadata": {
        "id": "oKw29ISsNtHj",
        "colab": {
          "base_uri": "https://localhost:8080/"
        },
        "outputId": "1b1eb88a-dc68-4077-f7ae-a6fc2485f907"
      },
      "execution_count": 9,
      "outputs": [
        {
          "output_type": "stream",
          "name": "stdout",
          "text": [
            "Before Reshape - x_train_norm shape: (2924, 28, 28, 3)\n",
            "Epoch 1/10\n",
            "92/92 [==============================] - 10s 88ms/step - loss: 0.7575 - accuracy: 0.6536 - val_loss: 0.4770 - val_accuracy: 0.7937\n",
            "Epoch 2/10\n",
            "92/92 [==============================] - 7s 76ms/step - loss: 0.3337 - accuracy: 0.8618 - val_loss: 0.2165 - val_accuracy: 0.9126\n",
            "Epoch 3/10\n",
            "92/92 [==============================] - 8s 89ms/step - loss: 0.1522 - accuracy: 0.9460 - val_loss: 0.1130 - val_accuracy: 0.9672\n",
            "Epoch 4/10\n",
            "92/92 [==============================] - 6s 67ms/step - loss: 0.0782 - accuracy: 0.9829 - val_loss: 0.0605 - val_accuracy: 0.9836\n",
            "Epoch 5/10\n",
            "92/92 [==============================] - 7s 71ms/step - loss: 0.0429 - accuracy: 0.9942 - val_loss: 0.0416 - val_accuracy: 0.9945\n",
            "Epoch 6/10\n",
            "92/92 [==============================] - 9s 93ms/step - loss: 0.0225 - accuracy: 0.9979 - val_loss: 0.0305 - val_accuracy: 0.9932\n",
            "Epoch 7/10\n",
            "92/92 [==============================] - 4s 46ms/step - loss: 0.0104 - accuracy: 0.9997 - val_loss: 0.0129 - val_accuracy: 0.9986\n",
            "Epoch 8/10\n",
            "92/92 [==============================] - 3s 37ms/step - loss: 0.0061 - accuracy: 1.0000 - val_loss: 0.0106 - val_accuracy: 0.9986\n",
            "Epoch 9/10\n",
            "92/92 [==============================] - 6s 63ms/step - loss: 0.0047 - accuracy: 1.0000 - val_loss: 0.0091 - val_accuracy: 1.0000\n",
            "Epoch 10/10\n",
            "92/92 [==============================] - 3s 37ms/step - loss: 0.0032 - accuracy: 1.0000 - val_loss: 0.0062 - val_accuracy: 0.9986\n"
          ]
        }
      ]
    },
    {
      "cell_type": "code",
      "source": [
        "# 훈련 손실 그래프\n",
        "plt.plot(history.history['loss'])\n",
        "plt.plot(history.history['val_loss'])\n",
        "plt.title('Model Loss')\n",
        "plt.xlabel('Epoch')\n",
        "plt.ylabel('Loss')\n",
        "plt.legend(['train', 'val'], loc='upper right')\n",
        "plt.show()\n",
        "\n",
        "# 훈련 정확도 그래프\n",
        "plt.plot(history.history['accuracy'])\n",
        "plt.plot(history.history['val_accuracy'])\n",
        "plt.title('Model Accuracy')\n",
        "plt.xlabel('Epoch')\n",
        "plt.ylabel('Accuracy')\n",
        "plt.legend(['train', 'val'], loc='lower right')\n",
        "plt.show()"
      ],
      "metadata": {
        "colab": {
          "base_uri": "https://localhost:8080/",
          "height": 927
        },
        "id": "DKJLz5FFVQIz",
        "outputId": "46ee4d99-b9c0-43ac-e7ca-348e3b3a69a9"
      },
      "execution_count": 10,
      "outputs": [
        {
          "output_type": "display_data",
          "data": {
            "text/plain": [
              "<Figure size 640x480 with 1 Axes>"
            ],
            "image/png": "[encoded data removed]"
          },
          "metadata": {}
        },
        {
          "output_type": "display_data",
          "data": {
            "text/plain": [
              "<Figure size 640x480 with 1 Axes>"
            ],
            "image/png": "[encoded data removed]"
          },
          "metadata": {}
        }
      ]
    },
    {
      "cell_type": "markdown",
      "source": [
        "## 얼마나 잘 만들었는지 확인하기(테스트)"
      ],
      "metadata": {
        "id": "4YyOggXFNvd1"
      }
    },
    {
      "cell_type": "code",
      "source": [
        "# x_test, y_test를 만드는 방법은 x_train, y_train을 만드는 방법과 아주 유사합니다.\n",
        "# scissor\n",
        "image_dir_path = \"/content/drive/MyDrive/on6Core/Quest_python/project_rock_scissor_paper/test/scissor\"\n",
        "resize_images(image_dir_path)\n",
        "\n",
        "# rock\n",
        "image_dir_path = \"/content/drive/MyDrive/on6Core/Quest_python/project_rock_scissor_paper/test/rock\"\n",
        "resize_images(image_dir_path)\n",
        "\n",
        "# paper\n",
        "image_dir_path = \"/content/drive/MyDrive/on6Core/Quest_python/project_rock_scissor_paper/test/paper\"\n",
        "resize_images(image_dir_path)\n",
        "\n",
        "# 우선 테스트용 데이터인 x_test, y_test를 만들어 봅시다.\n",
        "image_dir_path = \"/content/drive/MyDrive/on6Core/Quest_python/project_rock_scissor_paper/test\"\n",
        "x_test, y_test = load_data(image_dir_path)\n",
        "x_test_norm = x_test/255.0   # 입력은 0~1 사이의 값으로 정규화\n",
        "\n",
        "print(\"x_test shape: {}\".format(x_test.shape))\n",
        "print(\"y_test shape: {}\".format(y_test.shape))"
      ],
      "metadata": {
        "id": "YpM3OLhJNxi4",
        "colab": {
          "base_uri": "https://localhost:8080/"
        },
        "outputId": "350e01a7-0a25-49b6-aede-3e19958f3ea1"
      },
      "execution_count": 11,
      "outputs": [
        {
          "output_type": "stream",
          "name": "stdout",
          "text": [
            "100  images to be resized.\n"
          ]
        },
        {
          "output_type": "stream",
          "name": "stderr",
          "text": [
            "<ipython-input-3-7dfbe6f4a3d4>:10: DeprecationWarning: ANTIALIAS is deprecated and will be removed in Pillow 10 (2023-07-01). Use LANCZOS or Resampling.LANCZOS instead.\n",
            "  new_img=old_img.resize(target_size,Image.ANTIALIAS)\n"
          ]
        },
        {
          "output_type": "stream",
          "name": "stdout",
          "text": [
            "100  images resized.\n",
            "100  images to be resized.\n",
            "100  images resized.\n",
            "100  images to be resized.\n",
            "100  images resized.\n",
            "학습데이터(x_train)의 이미지 개수는 300 입니다.\n",
            "x_test shape: (3656, 28, 28, 3)\n",
            "y_test shape: (3656,)\n"
          ]
        }
      ]
    },
    {
      "cell_type": "code",
      "source": [
        "# model을 학습시키는 코드를 직접 작성해 보세요.\n",
        "# Hint! model.evaluate()을 사용해 봅시다.\n",
        "test_loss, test_accuracy = model.evaluate(x_test_norm ,y_test, verbose=2)\n",
        "print(f\"test_loss: {test_loss}\")\n",
        "print(\"테스트 정확도: {:.4f}\".format(test_accuracy))"
      ],
      "metadata": {
        "id": "nLapRq5lN49U",
        "colab": {
          "base_uri": "https://localhost:8080/"
        },
        "outputId": "4b73d46c-0477-4003-e4a8-07766763c3e5"
      },
      "execution_count": 12,
      "outputs": [
        {
          "output_type": "stream",
          "name": "stdout",
          "text": [
            "115/115 - 3s - loss: 0.9880 - accuracy: 0.9576 - 3s/epoch - 24ms/step\n",
            "test_loss: 0.9880053997039795\n",
            "테스트 정확도: 0.9576\n"
          ]
        }
      ]
    },
    {
      "cell_type": "code",
      "source": [
        "predicted_result = model.predict(x_test_norm)\n",
        "predicted_labels = np.argmax(predicted_result, axis=1)\n",
        "\n",
        "idx=0\n",
        "print('model.predict() 결과 : ', predicted_result[idx])\n",
        "print('model이 추론한 가장 가능성이 높은 결과 : ', predicted_labels[idx])\n",
        "print('실제 데이터의 라벨 : ', y_test[idx])"
      ],
      "metadata": {
        "colab": {
          "base_uri": "https://localhost:8080/"
        },
        "id": "r4p5TLihV7Y3",
        "outputId": "e1e8f9ec-d9a0-4991-9c91-8e1bf2b80e2e"
      },
      "execution_count": 13,
      "outputs": [
        {
          "output_type": "stream",
          "name": "stdout",
          "text": [
            "115/115 [==============================] - 2s 12ms/step\n",
            "model.predict() 결과 :  [1.5833716e-01 2.2406972e-04 8.4143877e-01]\n",
            "model이 추론한 가장 가능성이 높은 결과 :  2\n",
            "실제 데이터의 라벨 :  0\n"
          ]
        }
      ]
    },
    {
      "cell_type": "markdown",
      "source": [
        "# 회고  \n",
        "   \n",
        "테스트 정확도가 학습 때와 달리 30 ~ 35%가 나오는 문제가 있어 해결하고자\n",
        "1. 다른 크루의 데이터를 가지고 테스트   \n",
        "2. 모델 학습에서 하이퍼파라미터 값 조정      \n",
        "\n",
        "하지만 결과적으로 정확도를 높일 수 없었던 것에 대해 분석을 하자면\n",
        "아무래도 학습 데이터의 수가 부족하여 과적합이 발생된 것으로 생각된다.   \n",
        "   \n",
        "MNSIT 테스트시 훈련 데이터가 60000개고 테스트 데이터가 10000개였고 정확도가 99%까지 올라간 걸 감안했을 때 샘플 데이터가 많을수록 정확도가 높아진다는 것 그리고 하이퍼파라미터 조정도 어느정도의 샘플이 확보되어어야 의미가 있어진다는 것을 알게 되었다.\n"
      ],
      "metadata": {
        "id": "Gp6fmh4huXXI"
      }
    }
  ]
}