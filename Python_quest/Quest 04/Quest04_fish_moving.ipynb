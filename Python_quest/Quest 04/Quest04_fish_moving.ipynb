{
  "nbformat": 4,
  "nbformat_minor": 0,
  "metadata": {
    "colab": {
      "provenance": [],
      "include_colab_link": true
    },
    "kernelspec": {
      "name": "python3",
      "display_name": "Python 3"
    },
    "language_info": {
      "name": "python"
    }
  },
  "cells": [
    {
      "cell_type": "markdown",
      "metadata": {
        "id": "view-in-github",
        "colab_type": "text"
      },
      "source": [
        "<a href=\"https://colab.research.google.com/github/dlclxkzk87/AIFFEL_Quest/blob/main/Python_quest/Quest%2004/Quest04_fish_moving.ipynb\" target=\"_parent\"><img src=\"https://colab.research.google.com/assets/colab-badge.svg\" alt=\"Open In Colab\"/></a>"
      ]
    },
    {
      "cell_type": "markdown",
      "source": [
        "[QUEST 04] 물고기들의 움직임을 출력하기!   \n",
        "===\n",
        "\n",
        "다음 조건을 활용하여 물고기가 물 속에서 움직이는 것을 출력해보자!\n",
        "\n",
        "## 조건\n",
        "아래 물고기 리스트를 입력값으로 넣었을때 물고기의 움직임을 출력값으로 뱉어내도록 만들어봅시다.\n",
        " 물고기의 움직임을 출력하는 함수 2개(컴프리헨션, 제너레이터)를 만듭니다.\n",
        "컴프리헨션 함수에는 이름, 속도를 조합하고 제너레티어 함수에는 for문과 yield문를 활용합니다.\n",
        "물고기 리스트를 입력받으면, 2개의 함수는 물고기 이름과, 속도를 출력해야 합니다.  \n",
        "\n",
        "출력 예시\n",
        "===\n",
        "입력값 :\n",
        "\n",
        "물고기 리스트 생성\n",
        "fish_list = [   \n",
        " {\"이름\": \"Nemo\", \"speed\": 3},    \n",
        "{\"이름\": \"Dory\", \"speed\": 5},   \n",
        "]   \n",
        "\n",
        "print(\"Using Comprehension:\")  \n",
        "show_fish_movement_comprehension(fish_list)   \n",
        "print(\"Using Generator:\")   \n",
        "show_fish_movement_Generator(fish_list)   \n",
        "   \n",
        "출력값 :   \n",
        "Using Comprehension:   \n",
        "Nemo is swimming at 3 m/s   \n",
        "Dory is swimming at 5 m/s    \n",
        "Using Generator:   \n",
        "Nemo is swimming at 3 m/s   \n",
        "Dory is swimming at 5 m/s   "
      ],
      "metadata": {
        "id": "azlvV-joMAWQ"
      }
    },
    {
      "cell_type": "code",
      "source": [
        "# 물고기 움직임 컴프리헨션 함수.\n",
        "def show_fish_movement_comprehension(fish_list):\n",
        "    # 리스트 컴프리헨션을 통해 물고기 리스트를 순회하면서 '이름' 과 'speed'에\n",
        "    # 넣은 f\"{fish['이름']} is swimming at {fish['speed']} m/s\"를 movement 변수에 할당한다.\n",
        "    movement = [f\"{fish['이름']} is swimming at {fish['speed']} m/s\" for fish in fish_list]\n",
        "    # for문을 통해서 movement 변수를 차례대로 출력한다.\n",
        "    for move in movement:\n",
        "        print(move)\n",
        "\n",
        "# 물고기 움직임 제너레이터 함수\n",
        "def show_fish_movement_generator(fish_list):\n",
        "    for fish in fish_list:\n",
        "        yield f\"{fish['이름']} is swimming at {fish['speed']} m/s\"\n",
        "\n",
        "# 물고기 리스트\n",
        "fish_list = [\n",
        "    {\"이름\": \"Nemo\", \"speed\": 3},\n",
        "    {\"이름\": \"Dory\", \"speed\": 5},\n",
        "]\n",
        "\n",
        "print(\"Using Comprehension:\")\n",
        "show_fish_movement_comprehension(fish_list)\n",
        "\n",
        "print(\"Using Generator:\")\n",
        "# generator 변수에 반환된 f\"{fish['이름']} is swimming at {fish['speed']} m/s\"를 할당\n",
        "generator = show_fish_movement_generator(fish_list)\n",
        "# for문을 순회하면서 물고기 움직임 출력\n",
        "for move in generator:\n",
        "    print(move)\n",
        "\n"
      ],
      "metadata": {
        "colab": {
          "base_uri": "https://localhost:8080/"
        },
        "id": "juEsUJQBMQ1a",
        "outputId": "94c30ed6-8e28-4b07-efe5-9f622f895f6a"
      },
      "execution_count": null,
      "outputs": [
        {
          "output_type": "stream",
          "name": "stdout",
          "text": [
            "Using Comprehension:\n",
            "Nemo is swimming at 3 m/s\n",
            "Dory is swimming at 5 m/s\n",
            "Using Generator:\n",
            "Nemo is swimming at 3 m/s\n",
            "Dory is swimming at 5 m/s\n"
          ]
        }
      ]
    },
    {
      "cell_type": "markdown",
      "source": [
        "회고   \n",
        "\n",
        "리스트 컴프리 헨션을 사용하는 부분은 익숙해져서 어렵지 않았으나 제너레이터의 경우 크게 와닿지 않아 어떤식으로 함수를 만들어야 되는지에 대해 고민을 많이하였다.  제너레이터 함수를 통해 반환된 변수들을 출력해야되는데 for문을 통해 만들어야 했던 부분이 바로 생각나지 않아 검색으로 찾아서 작성하였다.\n",
        "그리고 코딩을 작성한 후 김대선 크루에게 내가 작성한 코드를 설명하면서 이해가 가지않았던 부분들이 많이 해소되어 좋은 학습시간을 보내게 되어 좋았다."
      ],
      "metadata": {
        "id": "w3if-3tiW-8b"
      }
    }
  ]
}